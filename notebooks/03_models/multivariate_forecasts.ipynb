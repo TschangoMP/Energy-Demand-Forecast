{
 "cells": [
  {
   "cell_type": "code",
   "execution_count": 1,
   "metadata": {},
   "outputs": [
    {
     "name": "stderr",
     "output_type": "stream",
     "text": [
      "c:\\Users\\tiago\\OneDrive\\Dokumente\\GitHub\\Energy-Deman-Forecast\\.venv\\Lib\\site-packages\\tqdm\\auto.py:21: TqdmWarning: IProgress not found. Please update jupyter and ipywidgets. See https://ipywidgets.readthedocs.io/en/stable/user_install.html\n",
      "  from .autonotebook import tqdm as notebook_tqdm\n"
     ]
    }
   ],
   "source": [
    "import pandas as pd\n",
    "import numpy as np\n",
    "import matplotlib.pyplot as plt\n",
    "import sys\n",
    "import os\n",
    "\n",
    "# Add the parent directory to the path to import from src\n",
    "sys.path.append(os.path.abspath(os.path.join(os.getcwd(), '../..')))\n",
    "\n",
    "from src.forecaster import MultivariateForecaster\n",
    "from src.features._data_processor import DataProcessor"
   ]
  },
  {
   "cell_type": "code",
   "execution_count": 2,
   "metadata": {},
   "outputs": [
    {
     "data": {
      "text/html": [
       "<div>\n",
       "<style scoped>\n",
       "    .dataframe tbody tr th:only-of-type {\n",
       "        vertical-align: middle;\n",
       "    }\n",
       "\n",
       "    .dataframe tbody tr th {\n",
       "        vertical-align: top;\n",
       "    }\n",
       "\n",
       "    .dataframe thead th {\n",
       "        text-align: right;\n",
       "    }\n",
       "</style>\n",
       "<table border=\"1\" class=\"dataframe\">\n",
       "  <thead>\n",
       "    <tr style=\"text-align: right;\">\n",
       "      <th></th>\n",
       "      <th>Client_1</th>\n",
       "      <th>year</th>\n",
       "      <th>hour</th>\n",
       "      <th>is_business_hour</th>\n",
       "      <th>month</th>\n",
       "      <th>day_of_week</th>\n",
       "      <th>is_weekend</th>\n",
       "      <th>hour_sin</th>\n",
       "      <th>hour_cos</th>\n",
       "      <th>day_of_week_sin</th>\n",
       "      <th>...</th>\n",
       "      <th>lag_1</th>\n",
       "      <th>lag_24</th>\n",
       "      <th>diff_1</th>\n",
       "      <th>pct_change_1</th>\n",
       "      <th>diff_24</th>\n",
       "      <th>pct_change_24</th>\n",
       "      <th>rolling_mean_3</th>\n",
       "      <th>rolling_std_3</th>\n",
       "      <th>rolling_mean_7</th>\n",
       "      <th>rolling_std_7</th>\n",
       "    </tr>\n",
       "  </thead>\n",
       "  <tbody>\n",
       "    <tr>\n",
       "      <th>2011-01-01 00:00:00</th>\n",
       "      <td>0.0</td>\n",
       "      <td>2011</td>\n",
       "      <td>0</td>\n",
       "      <td>0</td>\n",
       "      <td>1</td>\n",
       "      <td>5</td>\n",
       "      <td>1</td>\n",
       "      <td>0.000000</td>\n",
       "      <td>1.000000</td>\n",
       "      <td>-0.974928</td>\n",
       "      <td>...</td>\n",
       "      <td>NaN</td>\n",
       "      <td>NaN</td>\n",
       "      <td>NaN</td>\n",
       "      <td>NaN</td>\n",
       "      <td>NaN</td>\n",
       "      <td>NaN</td>\n",
       "      <td>0.0</td>\n",
       "      <td>NaN</td>\n",
       "      <td>0.0</td>\n",
       "      <td>NaN</td>\n",
       "    </tr>\n",
       "    <tr>\n",
       "      <th>2011-01-01 01:00:00</th>\n",
       "      <td>0.0</td>\n",
       "      <td>2011</td>\n",
       "      <td>1</td>\n",
       "      <td>0</td>\n",
       "      <td>1</td>\n",
       "      <td>5</td>\n",
       "      <td>1</td>\n",
       "      <td>0.258819</td>\n",
       "      <td>0.965926</td>\n",
       "      <td>-0.974928</td>\n",
       "      <td>...</td>\n",
       "      <td>0.0</td>\n",
       "      <td>NaN</td>\n",
       "      <td>0.0</td>\n",
       "      <td>NaN</td>\n",
       "      <td>NaN</td>\n",
       "      <td>NaN</td>\n",
       "      <td>0.0</td>\n",
       "      <td>0.0</td>\n",
       "      <td>0.0</td>\n",
       "      <td>0.0</td>\n",
       "    </tr>\n",
       "    <tr>\n",
       "      <th>2011-01-01 02:00:00</th>\n",
       "      <td>0.0</td>\n",
       "      <td>2011</td>\n",
       "      <td>2</td>\n",
       "      <td>0</td>\n",
       "      <td>1</td>\n",
       "      <td>5</td>\n",
       "      <td>1</td>\n",
       "      <td>0.500000</td>\n",
       "      <td>0.866025</td>\n",
       "      <td>-0.974928</td>\n",
       "      <td>...</td>\n",
       "      <td>0.0</td>\n",
       "      <td>NaN</td>\n",
       "      <td>0.0</td>\n",
       "      <td>NaN</td>\n",
       "      <td>NaN</td>\n",
       "      <td>NaN</td>\n",
       "      <td>0.0</td>\n",
       "      <td>0.0</td>\n",
       "      <td>0.0</td>\n",
       "      <td>0.0</td>\n",
       "    </tr>\n",
       "    <tr>\n",
       "      <th>2011-01-01 03:00:00</th>\n",
       "      <td>0.0</td>\n",
       "      <td>2011</td>\n",
       "      <td>3</td>\n",
       "      <td>0</td>\n",
       "      <td>1</td>\n",
       "      <td>5</td>\n",
       "      <td>1</td>\n",
       "      <td>0.707107</td>\n",
       "      <td>0.707107</td>\n",
       "      <td>-0.974928</td>\n",
       "      <td>...</td>\n",
       "      <td>0.0</td>\n",
       "      <td>NaN</td>\n",
       "      <td>0.0</td>\n",
       "      <td>NaN</td>\n",
       "      <td>NaN</td>\n",
       "      <td>NaN</td>\n",
       "      <td>0.0</td>\n",
       "      <td>0.0</td>\n",
       "      <td>0.0</td>\n",
       "      <td>0.0</td>\n",
       "    </tr>\n",
       "    <tr>\n",
       "      <th>2011-01-01 04:00:00</th>\n",
       "      <td>0.0</td>\n",
       "      <td>2011</td>\n",
       "      <td>4</td>\n",
       "      <td>0</td>\n",
       "      <td>1</td>\n",
       "      <td>5</td>\n",
       "      <td>1</td>\n",
       "      <td>0.866025</td>\n",
       "      <td>0.500000</td>\n",
       "      <td>-0.974928</td>\n",
       "      <td>...</td>\n",
       "      <td>0.0</td>\n",
       "      <td>NaN</td>\n",
       "      <td>0.0</td>\n",
       "      <td>NaN</td>\n",
       "      <td>NaN</td>\n",
       "      <td>NaN</td>\n",
       "      <td>0.0</td>\n",
       "      <td>0.0</td>\n",
       "      <td>0.0</td>\n",
       "      <td>0.0</td>\n",
       "    </tr>\n",
       "  </tbody>\n",
       "</table>\n",
       "<p>5 rows × 34 columns</p>\n",
       "</div>"
      ],
      "text/plain": [
       "                     Client_1  year  hour  is_business_hour  month  \\\n",
       "2011-01-01 00:00:00       0.0  2011     0                 0      1   \n",
       "2011-01-01 01:00:00       0.0  2011     1                 0      1   \n",
       "2011-01-01 02:00:00       0.0  2011     2                 0      1   \n",
       "2011-01-01 03:00:00       0.0  2011     3                 0      1   \n",
       "2011-01-01 04:00:00       0.0  2011     4                 0      1   \n",
       "\n",
       "                     day_of_week  is_weekend  hour_sin  hour_cos  \\\n",
       "2011-01-01 00:00:00            5           1  0.000000  1.000000   \n",
       "2011-01-01 01:00:00            5           1  0.258819  0.965926   \n",
       "2011-01-01 02:00:00            5           1  0.500000  0.866025   \n",
       "2011-01-01 03:00:00            5           1  0.707107  0.707107   \n",
       "2011-01-01 04:00:00            5           1  0.866025  0.500000   \n",
       "\n",
       "                     day_of_week_sin  ...  lag_1  lag_24  diff_1  \\\n",
       "2011-01-01 00:00:00        -0.974928  ...    NaN     NaN     NaN   \n",
       "2011-01-01 01:00:00        -0.974928  ...    0.0     NaN     0.0   \n",
       "2011-01-01 02:00:00        -0.974928  ...    0.0     NaN     0.0   \n",
       "2011-01-01 03:00:00        -0.974928  ...    0.0     NaN     0.0   \n",
       "2011-01-01 04:00:00        -0.974928  ...    0.0     NaN     0.0   \n",
       "\n",
       "                     pct_change_1  diff_24  pct_change_24  rolling_mean_3  \\\n",
       "2011-01-01 00:00:00           NaN      NaN            NaN             0.0   \n",
       "2011-01-01 01:00:00           NaN      NaN            NaN             0.0   \n",
       "2011-01-01 02:00:00           NaN      NaN            NaN             0.0   \n",
       "2011-01-01 03:00:00           NaN      NaN            NaN             0.0   \n",
       "2011-01-01 04:00:00           NaN      NaN            NaN             0.0   \n",
       "\n",
       "                     rolling_std_3 rolling_mean_7  rolling_std_7  \n",
       "2011-01-01 00:00:00            NaN            0.0            NaN  \n",
       "2011-01-01 01:00:00            0.0            0.0            0.0  \n",
       "2011-01-01 02:00:00            0.0            0.0            0.0  \n",
       "2011-01-01 03:00:00            0.0            0.0            0.0  \n",
       "2011-01-01 04:00:00            0.0            0.0            0.0  \n",
       "\n",
       "[5 rows x 34 columns]"
      ]
     },
     "metadata": {},
     "output_type": "display_data"
    }
   ],
   "source": [
    "# Load the data from silver layer\n",
    "data_path = '../../data/silver/forecast_data.csv'\n",
    "df = pd.read_csv(data_path, index_col=0)\n",
    "\n",
    "# Display the first few rows\n",
    "display(df.head())"
   ]
  },
  {
   "cell_type": "code",
   "execution_count": 3,
   "metadata": {},
   "outputs": [
    {
     "name": "stdout",
     "output_type": "stream",
     "text": [
      "Data shape after filtering: (27049, 34)\n",
      "Date range after filtering: 2011-12-01 00:00:00 to 2015-01-01 00:00:00\n"
     ]
    }
   ],
   "source": [
    "# Filter the DataFrame to keep only data from June 2012 onwards\n",
    "df = df[df.index >= '2011-12-01']\n",
    "\n",
    "# Display the updated DataFrame info\n",
    "print(f\"Data shape after filtering: {df.shape}\")\n",
    "print(f\"Date range after filtering: {df.index.min()} to {df.index.max()}\")"
   ]
  },
  {
   "cell_type": "code",
   "execution_count": null,
   "metadata": {},
   "outputs": [
    {
     "name": "stdout",
     "output_type": "stream",
     "text": [
      "Data shape: (27049, 34)\n",
      "Date range: 2011-12-01 00:00:00 to 2015-01-01 00:00:00\n",
      "Available columns: ['Client_1', 'year', 'hour', 'is_business_hour', 'month', 'day_of_week', 'is_weekend', 'hour_sin', 'hour_cos', 'day_of_week_sin', 'day_of_week_cos', 'month_sin', 'month_cos', 'day_of_year', 'week_of_year', 'quarter', 'is_month_start', 'is_month_end', 'time_of_day', 'is_morning', 'is_afternoon', 'is_evening', 'is_night', 'is_holiday', 'lag_1', 'lag_24', 'diff_1', 'pct_change_1', 'diff_24', 'pct_change_24', 'rolling_mean_3', 'rolling_std_3', 'rolling_mean_7', 'rolling_std_7']\n"
     ]
    }
   ],
   "source": [
    "# Ensure the date column is in datetime format and set it as index\n",
    "df = DataProcessor.prepare_time_index(df)\n",
    "\n",
    "# Display basic info about the data\n",
    "print(f\"Data shape: {df.shape}\")\n",
    "print(f\"Date range: {df.index.min()} to {df.index.max()}\")\n",
    "print(f\"Available columns: {df.columns.tolist()}\")"
   ]
  },
  {
   "cell_type": "code",
   "execution_count": null,
   "metadata": {},
   "outputs": [],
   "source": [
    "# ===============================\n",
    "# 2. Data Cleaning and Preprocessing\n",
    "# ===============================\n",
    "\n",
    "# Use the DataProcessor to clean the data\n",
    "df = DataProcessor.clean_data(df, threshold=1e9)"
   ]
  },
  {
   "cell_type": "code",
   "execution_count": null,
   "metadata": {},
   "outputs": [
    {
     "name": "stdout",
     "output_type": "stream",
     "text": [
      "\n",
      "🕒 PREPARING DATETIME INDEX\n",
      "   Converting index to datetime...\n",
      "✓ Successfully converted to DatetimeIndex\n"
     ]
    }
   ],
   "source": [
    "# ===============================\n",
    "# 3. Initialize and Optimize Forecaster\n",
    "# ===============================\n",
    "\n",
    "# Set parameters for the forecaster\n",
    "initial_window = 8760  # One full year of hourly data to capture all seasonal patterns\n",
    "step_length = 168*30     # One week of data (24 hours × 7 days) for regular model updates\n",
    "forecast_horizon = np.arange(1, 25*7)  # Forecast horizon of 24 steps (one full day ahead)\n",
    "\n",
    "# Initialize the forecaster\n",
    "forecaster = MultivariateForecaster(\n",
    "    data=df,\n",
    "    target_columns=[\"Client_1\"],\n",
    "    config_path=\"../../config/small_mv_config.json\",\n",
    "    initial_window=initial_window,\n",
    "    step_length=step_length,\n",
    "    fh=forecast_horizon\n",
    ")"
   ]
  },
  {
   "cell_type": "code",
   "execution_count": null,
   "metadata": {},
   "outputs": [
    {
     "name": "stderr",
     "output_type": "stream",
     "text": [
      "[I 2025-04-02 22:01:00,452] A new study created in memory with name: no-name-5d31d5fb-5ca5-4e1f-b51d-df98ab567fdd\n"
     ]
    },
    {
     "name": "stdout",
     "output_type": "stream",
     "text": [
      "Starting model optimization...\n"
     ]
    }
   ],
   "source": [
    "# Run optimization to find the best model\n",
    "# This may take some time depending on n_trials\n",
    "n_trials = 10  # Number of trials for optimization\n",
    "n_jobs = -1    # Use all available cores\n",
    "\n",
    "print(\"Starting model optimization...\")\n",
    "forecast = forecaster.optimize(n_trials=n_trials, n_jobs=n_jobs)\n",
    "print(\"Optimization complete!\")\n",
    "\n",
    "# Display the best model parameters\n",
    "print(\"Best model parameters:\")\n",
    "best_params = forecaster.study.best_params\n",
    "for param, value in best_params.items():\n",
    "    print(f\"  {param}: {value}\")\n",
    "\n",
    "print(f\"\\nBest model performance (RMSE): {forecaster.study.best_value:.4f}\")"
   ]
  },
  {
   "cell_type": "code",
   "execution_count": null,
   "metadata": {},
   "outputs": [
    {
     "name": "stdout",
     "output_type": "stream",
     "text": [
      "Forecasts:\n",
      "                     Client_1\n",
      "2015-01-01 01:00:00  3.513133\n",
      "2015-01-01 02:00:00  5.843139\n",
      "2015-01-01 03:00:00  7.246409\n",
      "2015-01-01 04:00:00  7.323681\n",
      "2015-01-01 05:00:00  7.478017\n",
      "...                       ...\n",
      "2015-01-08 02:00:00  9.178741\n",
      "2015-01-08 03:00:00  8.786723\n",
      "2015-01-08 04:00:00  9.082205\n",
      "2015-01-08 05:00:00  9.093223\n",
      "2015-01-08 06:00:00  8.657905\n",
      "\n",
      "[174 rows x 1 columns]\n"
     ]
    }
   ],
   "source": [
    "# ===============================\n",
    "# 4. Generate and Visualize Forecasts\n",
    "# ===============================\n",
    "# Generate forecasts for the next time periods\n",
    "forecast = forecaster.forecast(forecast_horizon)\n",
    "print(\"Forecasts:\")\n",
    "print(forecast)"
   ]
  },
  {
   "cell_type": "code",
   "execution_count": null,
   "metadata": {},
   "outputs": [
    {
     "data": {
      "image/png": "[encoded data removed]",
      "text/plain": [
       "<Figure size 1200x600 with 1 Axes>"
      ]
     },
     "metadata": {},
     "output_type": "display_data"
    }
   ],
   "source": [
    "# Plot the historical data and forecasts for the column 'Client_1'\n",
    "plt.figure(figsize=(12, 6))\n",
    "\n",
    "if 'Client_1' in df.columns:\n",
    "    plt.plot(df.index, df['Client_1'], label='Historical: Client_1')\n",
    "if 'Client_1' in forecast.columns:\n",
    "    plt.plot(forecast.index, forecast['Client_1'], label='Forecast: Client_1', linestyle='--')\n",
    "\n",
    "plt.title('Multivariate Time Series Forecast for Client_1')\n",
    "plt.xlabel('Date')\n",
    "plt.ylabel('Value')\n",
    "plt.legend()\n",
    "plt.grid(True)\n",
    "plt.tight_layout()\n",
    "plt.show()\n"
   ]
  },
  {
   "cell_type": "code",
   "execution_count": null,
   "metadata": {},
   "outputs": [],
   "source": [
    "# ===============================\n",
    "# 5. Save the Results\n",
    "# ===============================\n",
    "\n",
    "# Save the forecasts to a CSV file\n",
    "output_path = '../../data/gold/multivariate_forecasting_results.csv'\n",
    "os.makedirs(os.path.dirname(output_path), exist_ok=True)\n",
    "forecast.to_csv(output_path)\n",
    "print(f\"Forecasts saved to {output_path}\")"
   ]
  }
 ],
 "metadata": {
  "kernelspec": {
   "display_name": ".venv",
   "language": "python",
   "name": "python3"
  },
  "language_info": {
   "codemirror_mode": {
    "name": "ipython",
    "version": 3
   },
   "file_extension": ".py",
   "mimetype": "text/x-python",
   "name": "python",
   "nbconvert_exporter": "python",
   "pygments_lexer": "ipython3",
   "version": "3.11.7"
  }
 },
 "nbformat": 4,
 "nbformat_minor": 2
}
